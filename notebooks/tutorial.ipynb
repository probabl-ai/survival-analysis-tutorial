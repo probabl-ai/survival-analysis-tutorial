{
 "cells": [
  {
   "cell_type": "markdown",
   "id": "d35f360f",
   "metadata": {
    "lines_to_next_cell": 0
   },
   "source": [
    "# What is survival analysis, and when do you need it?\n",
    "\n",
    "Program for this talk:\n",
    "\n",
    "1. What is right-censored time-to-event data and why naive regression models fail\n",
    "   on such data?\n",
    "2. Use-cases and limitations\n",
    "3. Modeling\n",
    "   - Unconditional survival analysis with Kaplan Meier\n",
    "   - Conditional survival analysis with Cox Proportional Hazards, a log-linear estimator\n",
    "   - Conditional survival analysis and competing risk with SurvivalBoost, a non linear\n",
    "     boosting tree method.\n",
    "\n",
    "---\n"
   ]
  },
  {
   "cell_type": "markdown",
   "id": "ec59510a",
   "metadata": {
    "lines_to_next_cell": 0
   },
   "source": [
    "## 1. What is right-censored time-to-event data?\n",
    "\n",
    "### Censoring\n",
    "\n",
    "Survival analysis is a time-to-event regression problem, with censored data. We call censored all individuals that didn't experience the event during the range of the observation window.\n",
    "\n",
    "In our setting, we're mostly interested in right-censored data, meaning we that the event of interest did not occur before the end of the observation period (typically the time of collection of the dataset):\n",
    "\n",
    "<figure>\n",
    "<img src=\"censoring.png\" style=\"width:80%\">\n",
    "<figcaption align = \"center\"> <i>image credit: scikit-survival</i> </figcaption>\n",
    "</figure>\n",
    "\n",
    "Individuals can join the study at the same or different times, and the study may or may not be ended by the time of observation.\n",
    "\n",
    "Survival analysis techniques have wide applications:\n",
    "\n",
    "- In the **medical** landscape, events can consist in patients dying of cancer, or on the contrary recovering from some disease.\n",
    "- In **predictive maintenance**, events can consist in machine failure.\n",
    "- In **insurance**, we are interesting in modeling the time to next claim for a portfolio of insurance contracts.\n",
    "- In **marketing**, we can consider user churning as events, or we could focus on users becoming premium (members that choose to pay a subscription after having used the free version of service for a while).\n",
    "\n",
    "Answering questions like:\n",
    "- What is the probability that a new user churn in 6 months? 9 months?\n",
    "- How long does it take for this churn probability to be 50%?\n",
    "\n",
    "As we will see, for all those applications, it is not possible to directly train a machine learning-based regression model on such a **right-censored** time-to-event target since we only have a lower bound on the true time to event for some data points. **Naively removing such points from the dataset would cause the model predictions to be biased**.\n"
   ]
  },
  {
   "cell_type": "markdown",
   "id": "93432de5",
   "metadata": {},
   "source": [
    "## Our Tasks\n",
    "\n",
    "Some notations:\n",
    "\n",
    "We denote the observed time-to-event $T = \\min(T^*, C)$, where: \n",
    "- $T^* \\in \\mathbb{R}_+$ is the event time\n",
    "- $C \\in \\mathbb{R}_+$ is the censoring time\n",
    "\n",
    "We observe $(\\bold{X},T,\\Delta) \\sim D$, where:\n",
    "- $\\bold{X} \\sim \\mathcal{X}$ are our covariates\n",
    "- $\\Delta \\in [0,1]$ is the event indicator, 0 is a censored observation.\n",
    "\n",
    "However, we are primarily interested in the distribution $(\\bold{X}, T^*, \\Delta) \\sim \\mathcal{D}^*$, particularly the joint distribution $T^*, \\Delta|\\bold{X}$.\n",
    "\n",
    "Our main quantities of interest to estimate are:\n",
    "- The Survival Function: $S^*(t|\\bold{x})=P(T^*>t|\\bold{X=x})$. This represents the probability that an event doesn't occur at or before some given time $t$\n",
    "- The Cumulative Incidence function: $F^*(t|\\bold{x}) = 1 - S^*(t|\\bold{x}) = P(T^* \\leq t \\cap \\Delta=1|\\bold{X=x})$"
   ]
  },
  {
   "cell_type": "markdown",
   "id": "080c0b0d",
   "metadata": {},
   "source": [
    "### Our target `y`\n",
    "\n",
    "For each individual $i\\in[1, N]$, our survival analysis target $y_i$ is comprised of two elements:\n",
    "\n",
    "- The event indicator $\\delta_i\\in\\{0, 1\\}$, where $0$ marks censoring and $1$ is indicative that the event of interest has actually happened before the end of the observation window.\n",
    "- The censored time-to-event $d_i=min(t_{i}, c_i) > 0$, that is the minimum between the date of the experienced event $t_i$ and the censoring date $c_i$. In a real-world setting, we don't have direct access to $t_i$ when $\\delta_i=0$. We can only record $d_i$.\n",
    "\n",
    "Here is how we represent our target:"
   ]
  },
  {
   "cell_type": "code",
   "execution_count": 1,
   "id": "e2dfa693",
   "metadata": {
    "execution": {
     "iopub.execute_input": "2025-05-19T15:29:30.594986Z",
     "iopub.status.busy": "2025-05-19T15:29:30.594792Z",
     "iopub.status.idle": "2025-05-19T15:29:31.601527Z",
     "shell.execute_reply": "2025-05-19T15:29:31.601260Z"
    }
   },
   "outputs": [
    {
     "data": {
      "text/html": [
       "<div>\n",
       "<style scoped>\n",
       "    .dataframe tbody tr th:only-of-type {\n",
       "        vertical-align: middle;\n",
       "    }\n",
       "\n",
       "    .dataframe tbody tr th {\n",
       "        vertical-align: top;\n",
       "    }\n",
       "\n",
       "    .dataframe thead th {\n",
       "        text-align: right;\n",
       "    }\n",
       "</style>\n",
       "<table border=\"1\" class=\"dataframe\">\n",
       "  <thead>\n",
       "    <tr style=\"text-align: right;\">\n",
       "      <th></th>\n",
       "      <th>event</th>\n",
       "      <th>duration</th>\n",
       "    </tr>\n",
       "  </thead>\n",
       "  <tbody>\n",
       "    <tr>\n",
       "      <th>0</th>\n",
       "      <td>1</td>\n",
       "      <td>14233.9</td>\n",
       "    </tr>\n",
       "    <tr>\n",
       "      <th>1</th>\n",
       "      <td>1</td>\n",
       "      <td>2029.2</td>\n",
       "    </tr>\n",
       "    <tr>\n",
       "      <th>2</th>\n",
       "      <td>0</td>\n",
       "      <td>21436.1</td>\n",
       "    </tr>\n",
       "    <tr>\n",
       "      <th>3</th>\n",
       "      <td>1</td>\n",
       "      <td>17154.8</td>\n",
       "    </tr>\n",
       "    <tr>\n",
       "      <th>4</th>\n",
       "      <td>1</td>\n",
       "      <td>642.3</td>\n",
       "    </tr>\n",
       "  </tbody>\n",
       "</table>\n",
       "</div>"
      ],
      "text/plain": [
       "   event  duration\n",
       "0      1   14233.9\n",
       "1      1    2029.2\n",
       "2      0   21436.1\n",
       "3      1   17154.8\n",
       "4      1     642.3"
      ]
     },
     "execution_count": 1,
     "metadata": {},
     "output_type": "execute_result"
    }
   ],
   "source": [
    "from hazardous.data import make_synthetic_competing_weibull\n",
    "\n",
    "X, y = make_synthetic_competing_weibull(\n",
    "    n_events=1, n_samples=50, random_state=0, return_X_y=True\n",
    ")\n",
    "y.head()"
   ]
  },
  {
   "cell_type": "markdown",
   "id": "2ee8f199",
   "metadata": {},
   "source": [
    "### Why is it a problem to train time-to-event regression models?\n",
    "\n",
    "Without survival analysis, we have two naive options to deal with right-censored time to event data:\n",
    "- We ignore censorted data points from the dataset, only keep events that happened and perform naive regression on them.\n",
    "- We consider that all censored events happen at the end of our observation window.\n",
    "\n",
    "**Both approaches are wrong and lead to biased results.**\n",
    "\n",
    "Let's compute the average and median time to event using either of those naive approaches on our truck failure dataset. We will compare them to the mean of the ground-truth event time $T$, that we would obtained with an infinite observation window. \n",
    "\n",
    "Note that we have access to the random variable $T$ because we generated this synthetic dataset. With real-world data, you only have access to $Y = \\min(T, C)$, where $C$ is a random variable representing the censoring time."
   ]
  },
  {
   "cell_type": "code",
   "execution_count": 2,
   "id": "72d43d59",
   "metadata": {
    "execution": {
     "iopub.execute_input": "2025-05-19T15:29:31.602790Z",
     "iopub.status.busy": "2025-05-19T15:29:31.602674Z",
     "iopub.status.idle": "2025-05-19T15:29:31.605940Z",
     "shell.execute_reply": "2025-05-19T15:29:31.605723Z"
    }
   },
   "outputs": [
    {
     "data": {
      "text/plain": [
       "np.float64(3873.2)"
      ]
     },
     "execution_count": 2,
     "metadata": {},
     "output_type": "execute_result"
    }
   ],
   "source": [
    "event_mask = y[\"event\"].astype(bool)\n",
    "y.loc[event_mask][\"duration\"].median()"
   ]
  },
  {
   "cell_type": "code",
   "execution_count": 3,
   "id": "0220b71e",
   "metadata": {
    "execution": {
     "iopub.execute_input": "2025-05-19T15:29:31.606964Z",
     "iopub.status.busy": "2025-05-19T15:29:31.606882Z",
     "iopub.status.idle": "2025-05-19T15:29:31.609459Z",
     "shell.execute_reply": "2025-05-19T15:29:31.609234Z"
    }
   },
   "outputs": [
    {
     "data": {
      "text/plain": [
       "np.float64(6995.049999999999)"
      ]
     },
     "execution_count": 3,
     "metadata": {},
     "output_type": "execute_result"
    }
   ],
   "source": [
    "y_max_impute = y.copy()\n",
    "y_max_impute.loc[~event_mask, \"duration\"] = y_max_impute[\"duration\"].max()\n",
    "y_max_impute[\"duration\"].median()"
   ]
  },
  {
   "cell_type": "code",
   "execution_count": 4,
   "id": "fda59c76",
   "metadata": {
    "execution": {
     "iopub.execute_input": "2025-05-19T15:29:31.610524Z",
     "iopub.status.busy": "2025-05-19T15:29:31.610441Z",
     "iopub.status.idle": "2025-05-19T15:29:31.613246Z",
     "shell.execute_reply": "2025-05-19T15:29:31.613049Z"
    }
   },
   "outputs": [
    {
     "data": {
      "text/plain": [
       "np.float64(6422.4)"
      ]
     },
     "execution_count": 4,
     "metadata": {},
     "output_type": "execute_result"
    }
   ],
   "source": [
    "_, y_uncensored = make_synthetic_competing_weibull(\n",
    "    n_events=1,\n",
    "    n_samples=50,\n",
    "    random_state=0,\n",
    "    return_X_y=True,\n",
    "    censoring_relative_scale=0,\n",
    ")\n",
    "y_uncensored[\"duration\"].median()"
   ]
  },
  {
   "cell_type": "markdown",
   "id": "802b517e",
   "metadata": {},
   "source": [
    "Let's start with unconditional estimation of the any event survival curve.\n",
    "\n",
    "## Unconditional survival analysis with Kaplan-Meier\n",
    "\n",
    "We now introduce the survival analysis approach to the problem of estimating the time-to-event from censored data. For now, we ignore any information from $X$ and focus on $y$ only.\n",
    "\n",
    "Here our quantity of interest is the survival probability:\n",
    "\n",
    "$$S(t)=P(T > t)$$ \n",
    "\n",
    "This represents the probability that an event doesn't occur at or before some given time $t$, i.e. that it happens at some time $T > t$.\n",
    "\n",
    "The most commonly used method to estimate this function is the **Kaplan-Meier** estimator. It gives us an **unbiased estimate of the survival probability**. It can be computed as follows:\n",
    "\n",
    "$$\\hat{S}(t)=\\prod_{i: t_i\\leq t} (1 - \\frac{d_i}{n_i})$$\n",
    "\n",
    "Where:\n",
    "\n",
    "- $t_i$ is the time of event for individual $i$ that experienced the event,\n",
    "- $d_i$ is the number of individuals having experienced the event at $t_i$,\n",
    "- $n_i$ are the remaining individuals at risk at $t_i$.\n",
    "\n",
    "Note that **individuals that were censored before $t_i$ are no longer considered at risk at $t_i$**.\n",
    "\n",
    "Contrary to machine learning regressors, this estimator is **unconditional**: it only extracts information from $y$ only, and cannot model information about each individual typically provided in a feature matrix $X$.\n",
    "\n",
    "In a real-world application, we aim at estimating $\\mathbb{E}[T]$ or $Q_{50\\%}[T]$. The latter quantity represents the median survival duration i.e. the duration before 50% of our population at risk experiment the event.\n",
    "\n",
    "We can also be interested in estimating the survival probability after some reference time $P(T > t_{ref})$, e.g. a random clinical trial estimating the capacity of a drug to improve the survival probability after 6 months."
   ]
  },
  {
   "cell_type": "code",
   "execution_count": 5,
   "id": "97880f1b",
   "metadata": {
    "execution": {
     "iopub.execute_input": "2025-05-19T15:29:31.614272Z",
     "iopub.status.busy": "2025-05-19T15:29:31.614183Z",
     "iopub.status.idle": "2025-05-19T15:29:31.982717Z",
     "shell.execute_reply": "2025-05-19T15:29:31.982471Z"
    },
    "lines_to_next_cell": 0
   },
   "outputs": [
    {
     "data": {
      "image/png": "[encoded data removed]",
      "text/plain": [
       "<Figure size 640x480 with 1 Axes>"
      ]
     },
     "metadata": {},
     "output_type": "display_data"
    }
   ],
   "source": [
    "from lifelines import KaplanMeierFitter\n",
    "\n",
    "km = KaplanMeierFitter()\n",
    "km.fit(\n",
    "    durations=y[\"duration\"],\n",
    "    event_observed=y[\"event\"],\n",
    ")\n",
    "ax = km.plot_survival_function()\n",
    "ax.axhline(y=0.5, linestyle=\"--\", color=\"r\", label=\"median\")\n",
    "ax.legend();"
   ]
  },
  {
   "cell_type": "markdown",
   "id": "19ede4eb",
   "metadata": {
    "lines_to_next_cell": 3
   },
   "source": [
    "We can read the median time to event directly from this curve: it is the time at the intersection of the estimate of the survival curve with the horizontal line for a 50% failure probility.\n",
    "\n",
    "Since we have censored data, $\\hat{S}(t)$ doesn't reach 0 within our observation window. We would need to extend the observation window to estimate the survival function beyond this limit. **Kaplan-Meier does not attempt the extrapolate beyond the last observed event**."
   ]
  }
 ],
 "metadata": {
  "jupytext": {
   "notebook_metadata_filter": "jupytext_format_version"
  },
  "kernelspec": {
   "display_name": "sa_online_talk",
   "language": "python",
   "name": "sa_online_talk"
  },
  "language_info": {
   "codemirror_mode": {
    "name": "ipython",
    "version": 3
   },
   "file_extension": ".py",
   "mimetype": "text/x-python",
   "name": "python",
   "nbconvert_exporter": "python",
   "pygments_lexer": "ipython3",
   "version": "3.12.4"
  }
 },
 "nbformat": 4,
 "nbformat_minor": 5
}
